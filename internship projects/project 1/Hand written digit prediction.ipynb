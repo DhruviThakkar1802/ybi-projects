{
 "cells": [
  {
   "cell_type": "code",
   "execution_count": 1,
   "id": "e7b11767",
   "metadata": {},
   "outputs": [],
   "source": [
    "import pandas as pd"
   ]
  },
  {
   "cell_type": "code",
   "execution_count": 2,
   "id": "1cb1d895",
   "metadata": {},
   "outputs": [],
   "source": [
    "import numpy as np"
   ]
  },
  {
   "cell_type": "code",
   "execution_count": 3,
   "id": "d0817d30",
   "metadata": {},
   "outputs": [],
   "source": [
    "import matplotlib.pyplot as plt"
   ]
  },
  {
   "cell_type": "code",
   "execution_count": 5,
   "id": "fb36d30d",
   "metadata": {},
   "outputs": [],
   "source": [
    "from sklearn.datasets import load_digits"
   ]
  },
  {
   "cell_type": "code",
   "execution_count": 7,
   "id": "85bfdaf7",
   "metadata": {},
   "outputs": [],
   "source": [
    "df=load_digits()"
   ]
  },
  {
   "cell_type": "code",
   "execution_count": 8,
   "id": "1c2e90d0",
   "metadata": {},
   "outputs": [
    {
     "data": {
      "text/plain": [
       "(1797, 8, 8)"
      ]
     },
     "execution_count": 8,
     "metadata": {},
     "output_type": "execute_result"
    }
   ],
   "source": [
    "df.images.shape"
   ]
  },
  {
   "cell_type": "code",
   "execution_count": 9,
   "id": "1ebe2ac9",
   "metadata": {},
   "outputs": [
    {
     "data": {
      "text/plain": [
       "array([[ 0.,  0.,  5., 13.,  9.,  1.,  0.,  0.],\n",
       "       [ 0.,  0., 13., 15., 10., 15.,  5.,  0.],\n",
       "       [ 0.,  3., 15.,  2.,  0., 11.,  8.,  0.],\n",
       "       [ 0.,  4., 12.,  0.,  0.,  8.,  8.,  0.],\n",
       "       [ 0.,  5.,  8.,  0.,  0.,  9.,  8.,  0.],\n",
       "       [ 0.,  4., 11.,  0.,  1., 12.,  7.,  0.],\n",
       "       [ 0.,  2., 14.,  5., 10., 12.,  0.,  0.],\n",
       "       [ 0.,  0.,  6., 13., 10.,  0.,  0.,  0.]])"
      ]
     },
     "execution_count": 9,
     "metadata": {},
     "output_type": "execute_result"
    }
   ],
   "source": [
    "df.images[0]"
   ]
  },
  {
   "cell_type": "code",
   "execution_count": 10,
   "id": "04b25dc7",
   "metadata": {},
   "outputs": [
    {
     "data": {
      "text/plain": [
       "(8, 8)"
      ]
     },
     "execution_count": 10,
     "metadata": {},
     "output_type": "execute_result"
    }
   ],
   "source": [
    "df.images[0].shape"
   ]
  },
  {
   "cell_type": "code",
   "execution_count": 28,
   "id": "c296a6a5",
   "metadata": {},
   "outputs": [],
   "source": [
    "n_samples = len(df.images)\n",
    "data=df.images.reshape((n_samples, -1))"
   ]
  },
  {
   "cell_type": "code",
   "execution_count": 39,
   "id": "c8fff7a1",
   "metadata": {},
   "outputs": [
    {
     "data": {
      "text/plain": [
       "array([ 0.,  0.,  5., 13.,  9.,  1.,  0.,  0.,  0.,  0., 13., 15., 10.,\n",
       "       15.,  5.,  0.,  0.,  3., 15.,  2.,  0., 11.,  8.,  0.,  0.,  4.,\n",
       "       12.,  0.,  0.,  8.,  8.,  0.,  0.,  5.,  8.,  0.,  0.,  9.,  8.,\n",
       "        0.,  0.,  4., 11.,  0.,  1., 12.,  7.,  0.,  0.,  2., 14.,  5.,\n",
       "       10., 12.,  0.,  0.,  0.,  0.,  6., 13., 10.,  0.,  0.,  0.])"
      ]
     },
     "execution_count": 39,
     "metadata": {},
     "output_type": "execute_result"
    }
   ],
   "source": [
    "data[0]"
   ]
  },
  {
   "cell_type": "code",
   "execution_count": 40,
   "id": "9beb82c7",
   "metadata": {},
   "outputs": [
    {
     "data": {
      "text/plain": [
       "(64,)"
      ]
     },
     "execution_count": 40,
     "metadata": {},
     "output_type": "execute_result"
    }
   ],
   "source": [
    "data[0].shape"
   ]
  },
  {
   "cell_type": "code",
   "execution_count": 41,
   "id": "1ba2a041",
   "metadata": {},
   "outputs": [
    {
     "data": {
      "text/plain": [
       "(1797, 64)"
      ]
     },
     "execution_count": 41,
     "metadata": {},
     "output_type": "execute_result"
    }
   ],
   "source": [
    "data.shape"
   ]
  },
  {
   "cell_type": "code",
   "execution_count": 15,
   "id": "8379feee",
   "metadata": {},
   "outputs": [
    {
     "data": {
      "text/plain": [
       "0.0"
      ]
     },
     "execution_count": 15,
     "metadata": {},
     "output_type": "execute_result"
    }
   ],
   "source": [
    "data.min()"
   ]
  },
  {
   "cell_type": "code",
   "execution_count": 16,
   "id": "93025d84",
   "metadata": {},
   "outputs": [
    {
     "data": {
      "text/plain": [
       "16.0"
      ]
     },
     "execution_count": 16,
     "metadata": {},
     "output_type": "execute_result"
    }
   ],
   "source": [
    "data.max()"
   ]
  },
  {
   "cell_type": "code",
   "execution_count": 17,
   "id": "fe801e6d",
   "metadata": {},
   "outputs": [],
   "source": [
    "data=data/16"
   ]
  },
  {
   "cell_type": "code",
   "execution_count": 18,
   "id": "62fa19ab",
   "metadata": {},
   "outputs": [
    {
     "data": {
      "text/plain": [
       "0.0"
      ]
     },
     "execution_count": 18,
     "metadata": {},
     "output_type": "execute_result"
    }
   ],
   "source": [
    "data.min()"
   ]
  },
  {
   "cell_type": "code",
   "execution_count": 19,
   "id": "ef9a3cc3",
   "metadata": {},
   "outputs": [
    {
     "data": {
      "text/plain": [
       "1.0"
      ]
     },
     "execution_count": 19,
     "metadata": {},
     "output_type": "execute_result"
    }
   ],
   "source": [
    "data.max()"
   ]
  },
  {
   "cell_type": "code",
   "execution_count": 20,
   "id": "396cd861",
   "metadata": {},
   "outputs": [
    {
     "data": {
      "text/plain": [
       "array([0.    , 0.    , 0.3125, 0.8125, 0.5625, 0.0625, 0.    , 0.    ,\n",
       "       0.    , 0.    , 0.8125, 0.9375, 0.625 , 0.9375, 0.3125, 0.    ,\n",
       "       0.    , 0.1875, 0.9375, 0.125 , 0.    , 0.6875, 0.5   , 0.    ,\n",
       "       0.    , 0.25  , 0.75  , 0.    , 0.    , 0.5   , 0.5   , 0.    ,\n",
       "       0.    , 0.3125, 0.5   , 0.    , 0.    , 0.5625, 0.5   , 0.    ,\n",
       "       0.    , 0.25  , 0.6875, 0.    , 0.0625, 0.75  , 0.4375, 0.    ,\n",
       "       0.    , 0.125 , 0.875 , 0.3125, 0.625 , 0.75  , 0.    , 0.    ,\n",
       "       0.    , 0.    , 0.375 , 0.8125, 0.625 , 0.    , 0.    , 0.    ])"
      ]
     },
     "execution_count": 20,
     "metadata": {},
     "output_type": "execute_result"
    }
   ],
   "source": [
    "data[0]"
   ]
  },
  {
   "cell_type": "code",
   "execution_count": 21,
   "id": "63740275",
   "metadata": {},
   "outputs": [],
   "source": [
    "from sklearn.model_selection import train_test_split"
   ]
  },
  {
   "cell_type": "code",
   "execution_count": 29,
   "id": "d92f0843",
   "metadata": {},
   "outputs": [],
   "source": [
    "x_train, x_test, y_train, y_test= train_test_split(data, df.target, test_size=0.3)"
   ]
  },
  {
   "cell_type": "code",
   "execution_count": 30,
   "id": "619ac9b5",
   "metadata": {},
   "outputs": [
    {
     "data": {
      "text/plain": [
       "((1257, 64), (540, 64), (1257,), (540,))"
      ]
     },
     "execution_count": 30,
     "metadata": {},
     "output_type": "execute_result"
    }
   ],
   "source": [
    "x_train.shape, x_test.shape, y_train.shape, y_test.shape"
   ]
  },
  {
   "cell_type": "code",
   "execution_count": 31,
   "id": "dc84631c",
   "metadata": {},
   "outputs": [],
   "source": [
    "from sklearn.ensemble import RandomForestClassifier"
   ]
  },
  {
   "cell_type": "code",
   "execution_count": 32,
   "id": "e515a99d",
   "metadata": {},
   "outputs": [],
   "source": [
    "rf=RandomForestClassifier()"
   ]
  },
  {
   "cell_type": "code",
   "execution_count": 33,
   "id": "e05de82c",
   "metadata": {},
   "outputs": [
    {
     "data": {
      "text/plain": [
       "RandomForestClassifier()"
      ]
     },
     "execution_count": 33,
     "metadata": {},
     "output_type": "execute_result"
    }
   ],
   "source": [
    "rf.fit(x_train, y_train)"
   ]
  },
  {
   "cell_type": "code",
   "execution_count": 34,
   "id": "58a30e4a",
   "metadata": {},
   "outputs": [],
   "source": [
    "y_pred = rf.predict(x_test)"
   ]
  },
  {
   "cell_type": "code",
   "execution_count": 42,
   "id": "b530ba4e",
   "metadata": {},
   "outputs": [
    {
     "data": {
      "text/plain": [
       "array([5, 6, 0, 6, 2, 2, 1, 4, 3, 3, 3, 4, 9, 3, 0, 4, 1, 2, 3, 4, 7, 6,\n",
       "       8, 6, 2, 1, 6, 4, 8, 8, 9, 8, 5, 4, 7, 8, 3, 9, 8, 6, 5, 5, 0, 5,\n",
       "       2, 7, 3, 6, 4, 8, 5, 6, 7, 0, 1, 3, 9, 9, 9, 8, 7, 9, 6, 7, 8, 9,\n",
       "       9, 6, 8, 7, 3, 9, 1, 0, 0, 4, 7, 4, 5, 3, 1, 8, 1, 3, 4, 7, 7, 9,\n",
       "       0, 7, 5, 4, 1, 4, 2, 3, 8, 0, 0, 1, 5, 9, 3, 1, 9, 8, 8, 0, 2, 3,\n",
       "       9, 3, 4, 9, 9, 6, 3, 8, 3, 4, 1, 7, 1, 6, 1, 1, 1, 5, 3, 7, 7, 3,\n",
       "       2, 3, 6, 7, 0, 4, 9, 1, 1, 2, 7, 4, 8, 5, 0, 3, 9, 6, 7, 9, 4, 4,\n",
       "       7, 3, 0, 8, 7, 5, 0, 4, 8, 8, 1, 9, 4, 6, 4, 4, 2, 5, 2, 6, 0, 4,\n",
       "       8, 3, 1, 6, 3, 1, 2, 3, 8, 1, 5, 6, 1, 2, 5, 9, 5, 6, 7, 0, 1, 6,\n",
       "       2, 2, 7, 3, 5, 4, 1, 6, 6, 4, 7, 3, 2, 0, 5, 0, 6, 8, 4, 9, 1, 5,\n",
       "       5, 6, 9, 3, 4, 0, 2, 9, 5, 9, 5, 4, 1, 4, 7, 4, 7, 9, 0, 7, 7, 7,\n",
       "       6, 8, 4, 3, 0, 0, 8, 2, 6, 8, 8, 7, 9, 8, 5, 0, 9, 7, 1, 1, 3, 6,\n",
       "       7, 4, 4, 5, 7, 4, 9, 5, 9, 1, 0, 1, 1, 3, 3, 1, 0, 8, 2, 9, 0, 3,\n",
       "       5, 1, 6, 8, 7, 7, 3, 1, 8, 5, 9, 9, 1, 4, 5, 2, 7, 7, 1, 8, 4, 5,\n",
       "       7, 4, 1, 0, 2, 1, 3, 2, 7, 2, 2, 5, 7, 0, 8, 5, 7, 5, 3, 9, 9, 5,\n",
       "       7, 6, 2, 5, 2, 1, 2, 3, 1, 5, 9, 7, 9, 6, 0, 9, 5, 3, 6, 2, 8, 1,\n",
       "       6, 0, 5, 9, 9, 2, 3, 7, 3, 3, 8, 1, 5, 3, 6, 7, 0, 2, 1, 6, 2, 0,\n",
       "       3, 9, 8, 0, 7, 9, 8, 9, 3, 8, 9, 4, 0, 6, 9, 1, 9, 3, 6, 8, 0, 5,\n",
       "       4, 0, 0, 9, 5, 7, 0, 1, 3, 0, 4, 0, 3, 9, 5, 0, 9, 8, 5, 5, 3, 3,\n",
       "       3, 1, 1, 3, 5, 0, 5, 2, 0, 3, 7, 9, 7, 7, 6, 6, 9, 8, 1, 2, 3, 0,\n",
       "       9, 0, 4, 4, 2, 0, 0, 7, 5, 9, 8, 5, 2, 8, 0, 2, 9, 6, 6, 8, 2, 0,\n",
       "       2, 3, 1, 1, 2, 7, 4, 0, 6, 8, 3, 9, 4, 8, 2, 1, 2, 0, 0, 6, 9, 0,\n",
       "       9, 5, 6, 2, 1, 3, 9, 5, 4, 1, 8, 5, 6, 9, 0, 7, 4, 6, 7, 9, 5, 0,\n",
       "       4, 2, 1, 0, 5, 2, 0, 3, 4, 8, 8, 9, 7, 2, 1, 3, 0, 2, 5, 5, 1, 7,\n",
       "       5, 0, 8, 2, 5, 8, 2, 8, 2, 1, 8, 3])"
      ]
     },
     "execution_count": 42,
     "metadata": {},
     "output_type": "execute_result"
    }
   ],
   "source": [
    "y_pred"
   ]
  },
  {
   "cell_type": "code",
   "execution_count": 43,
   "id": "3e3f621a",
   "metadata": {},
   "outputs": [],
   "source": [
    "from sklearn.metrics import confusion_matrix, classification_report"
   ]
  },
  {
   "cell_type": "code",
   "execution_count": 46,
   "id": "f23d7f31",
   "metadata": {},
   "outputs": [
    {
     "data": {
      "text/plain": [
       "array([[58,  0,  0,  0,  0,  0,  0,  0,  0,  0],\n",
       "       [ 0, 55,  0,  0,  0,  0,  0,  0,  0,  0],\n",
       "       [ 0,  0, 49,  0,  0,  0,  0,  0,  0,  0],\n",
       "       [ 1,  0,  0, 57,  0,  0,  0,  0,  1,  0],\n",
       "       [ 0,  0,  0,  0, 48,  0,  0,  0,  0,  0],\n",
       "       [ 0,  0,  0,  0,  0, 56,  0,  0,  1,  2],\n",
       "       [ 0,  0,  0,  0,  0,  0, 45,  0,  1,  0],\n",
       "       [ 0,  0,  0,  0,  0,  0,  0, 52,  0,  0],\n",
       "       [ 0,  2,  0,  0,  0,  0,  0,  1, 49,  0],\n",
       "       [ 0,  0,  0,  2,  0,  0,  0,  1,  0, 59]], dtype=int64)"
      ]
     },
     "execution_count": 46,
     "metadata": {},
     "output_type": "execute_result"
    }
   ],
   "source": [
    "confusion_matrix(y_test, y_pred)"
   ]
  },
  {
   "cell_type": "code",
   "execution_count": 45,
   "id": "75bb528f",
   "metadata": {},
   "outputs": [
    {
     "name": "stdout",
     "output_type": "stream",
     "text": [
      "              precision    recall  f1-score   support\n",
      "\n",
      "           0       0.98      1.00      0.99        58\n",
      "           1       0.96      1.00      0.98        55\n",
      "           2       1.00      1.00      1.00        49\n",
      "           3       0.97      0.97      0.97        59\n",
      "           4       1.00      1.00      1.00        48\n",
      "           5       1.00      0.95      0.97        59\n",
      "           6       1.00      0.98      0.99        46\n",
      "           7       0.96      1.00      0.98        52\n",
      "           8       0.94      0.94      0.94        52\n",
      "           9       0.97      0.95      0.96        62\n",
      "\n",
      "    accuracy                           0.98       540\n",
      "   macro avg       0.98      0.98      0.98       540\n",
      "weighted avg       0.98      0.98      0.98       540\n",
      "\n"
     ]
    }
   ],
   "source": [
    "print(classification_report(y_test, y_pred))"
   ]
  },
  {
   "cell_type": "code",
   "execution_count": null,
   "id": "9cb2da70",
   "metadata": {},
   "outputs": [],
   "source": []
  }
 ],
 "metadata": {
  "kernelspec": {
   "display_name": "Python 3 (ipykernel)",
   "language": "python",
   "name": "python3"
  },
  "language_info": {
   "codemirror_mode": {
    "name": "ipython",
    "version": 3
   },
   "file_extension": ".py",
   "mimetype": "text/x-python",
   "name": "python",
   "nbconvert_exporter": "python",
   "pygments_lexer": "ipython3",
   "version": "3.9.12"
  }
 },
 "nbformat": 4,
 "nbformat_minor": 5
}
